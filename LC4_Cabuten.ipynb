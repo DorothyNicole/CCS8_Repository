{
  "nbformat": 4,
  "nbformat_minor": 0,
  "metadata": {
    "colab": {
      "provenance": []
    },
    "kernelspec": {
      "name": "python3",
      "display_name": "Python 3"
    },
    "language_info": {
      "name": "python"
    }
  },
  "cells": [
    {
      "cell_type": "markdown",
      "source": [
        "# **Part 1: Understanding Cross-Validation**"
      ],
      "metadata": {
        "id": "vXB08Q9JWzXw"
      }
    },
    {
      "cell_type": "markdown",
      "source": [
        "**Step 1: Set Up the Environment**"
      ],
      "metadata": {
        "id": "T33V75CWW_xn"
      }
    },
    {
      "cell_type": "code",
      "execution_count": null,
      "metadata": {
        "id": "gQW5okZx6q3q",
        "colab": {
          "base_uri": "https://localhost:8080/"
        },
        "outputId": "b3e9fc3d-6b18-4914-c4d2-950b3f49d4ed"
      },
      "outputs": [
        {
          "output_type": "stream",
          "name": "stdout",
          "text": [
            "Requirement already satisfied: scikit-learn in /usr/local/lib/python3.11/dist-packages (1.6.1)\n",
            "Requirement already satisfied: pandas in /usr/local/lib/python3.11/dist-packages (2.2.2)\n",
            "Requirement already satisfied: numpy in /usr/local/lib/python3.11/dist-packages (2.0.2)\n",
            "Requirement already satisfied: matplotlib in /usr/local/lib/python3.11/dist-packages (3.10.0)\n",
            "Requirement already satisfied: scipy>=1.6.0 in /usr/local/lib/python3.11/dist-packages (from scikit-learn) (1.14.1)\n",
            "Requirement already satisfied: joblib>=1.2.0 in /usr/local/lib/python3.11/dist-packages (from scikit-learn) (1.4.2)\n",
            "Requirement already satisfied: threadpoolctl>=3.1.0 in /usr/local/lib/python3.11/dist-packages (from scikit-learn) (3.6.0)\n",
            "Requirement already satisfied: python-dateutil>=2.8.2 in /usr/local/lib/python3.11/dist-packages (from pandas) (2.8.2)\n",
            "Requirement already satisfied: pytz>=2020.1 in /usr/local/lib/python3.11/dist-packages (from pandas) (2025.2)\n",
            "Requirement already satisfied: tzdata>=2022.7 in /usr/local/lib/python3.11/dist-packages (from pandas) (2025.2)\n",
            "Requirement already satisfied: contourpy>=1.0.1 in /usr/local/lib/python3.11/dist-packages (from matplotlib) (1.3.1)\n",
            "Requirement already satisfied: cycler>=0.10 in /usr/local/lib/python3.11/dist-packages (from matplotlib) (0.12.1)\n",
            "Requirement already satisfied: fonttools>=4.22.0 in /usr/local/lib/python3.11/dist-packages (from matplotlib) (4.56.0)\n",
            "Requirement already satisfied: kiwisolver>=1.3.1 in /usr/local/lib/python3.11/dist-packages (from matplotlib) (1.4.8)\n",
            "Requirement already satisfied: packaging>=20.0 in /usr/local/lib/python3.11/dist-packages (from matplotlib) (24.2)\n",
            "Requirement already satisfied: pillow>=8 in /usr/local/lib/python3.11/dist-packages (from matplotlib) (11.1.0)\n",
            "Requirement already satisfied: pyparsing>=2.3.1 in /usr/local/lib/python3.11/dist-packages (from matplotlib) (3.2.3)\n",
            "Requirement already satisfied: six>=1.5 in /usr/local/lib/python3.11/dist-packages (from python-dateutil>=2.8.2->pandas) (1.17.0)\n"
          ]
        }
      ],
      "source": [
        "!pip install scikit-learn pandas numpy matplotlib"
      ]
    },
    {
      "cell_type": "markdown",
      "source": [
        "**Step 2: Load the Dataset**"
      ],
      "metadata": {
        "id": "s0zR_GsEXIxE"
      }
    },
    {
      "cell_type": "code",
      "source": [
        "from sklearn.datasets import load_iris\n",
        "from sklearn.model_selection import train_test_split, cross_val_score\n",
        "from sklearn.tree import DecisionTreeClassifier\n",
        "import numpy as np\n",
        "\n",
        "#Load dataset\n",
        "iris = load_iris()\n",
        "X, y = iris.data, iris.target\n",
        "\n",
        "#Split data\n",
        "X_train, X_test, y_train, y_test = train_test_split(X, y, test_size=0.2, random_state=42)"
      ],
      "metadata": {
        "id": "64-ETWBPI0cF"
      },
      "execution_count": null,
      "outputs": []
    },
    {
      "cell_type": "markdown",
      "source": [
        "**Step 3: Implement Cross-Validation**"
      ],
      "metadata": {
        "id": "XKhm-SojXRaL"
      }
    },
    {
      "cell_type": "code",
      "source": [
        "from sklearn.model_selection import KFold\n",
        "\n",
        "model = DecisionTreeClassifier()\n",
        "kfold = KFold(n_splits=5, shuffle=True, random_state=42)\n",
        "scores = cross_val_score(model, X, y, cv=kfold)\n",
        "\n",
        "print(\"Cross-validation scores:\", scores)\n",
        "print(\"Mean accuracy:\", np.mean(scores))\n",
        "# mukhang iba po ata yung naging output netong \"Mean accuracy\" ko po sa output ninyo, ma'am, even though I followed the strictly followed the steps po."
      ],
      "metadata": {
        "colab": {
          "base_uri": "https://localhost:8080/"
        },
        "id": "os6Ss1OiNrfJ",
        "outputId": "ebee8305-7ab6-4288-9830-0c62d72d014e"
      },
      "execution_count": null,
      "outputs": [
        {
          "output_type": "stream",
          "name": "stdout",
          "text": [
            "Cross-validation scores: [1.         0.96666667 0.93333333 0.93333333 0.93333333]\n",
            "Mean accuracy: 0.9533333333333335\n"
          ]
        }
      ]
    },
    {
      "cell_type": "markdown",
      "source": [
        "**[ Answering the Analysis Questions as Comments: ]**"
      ],
      "metadata": {
        "id": "NSDzA1ysZq7Y"
      }
    },
    {
      "cell_type": "code",
      "source": [
        "# Analysis:\n",
        "# What does cross-validation do? Cross-validation helps to assess the performance of a model by splitting the dataset into multiple training and validation sets.\n",
        "# Why do we take the mean accuracy? Taking the mean accuracy across multiple validation sets ensures that the performance metric is not biased by a single split of the data."
      ],
      "metadata": {
        "id": "0K24bcM3XgGb"
      },
      "execution_count": null,
      "outputs": []
    },
    {
      "cell_type": "markdown",
      "source": [
        "# **Part 2: Detecting Overfitting & Underfitting**"
      ],
      "metadata": {
        "id": "hSiINJ9OXwVV"
      }
    },
    {
      "cell_type": "markdown",
      "source": [
        "**Step 4: Train Models with Different Depths**"
      ],
      "metadata": {
        "id": "06R5lk1SX5nV"
      }
    },
    {
      "cell_type": "code",
      "source": [
        "import matplotlib.pyplot as plt\n",
        "from sklearn.metrics import accuracy_score\n",
        "\n",
        "train_scores = []\n",
        "test_scores = []\n",
        "depths = range(1, 11)\n",
        "\n",
        "for depth in depths:\n",
        "  model = DecisionTreeClassifier(max_depth=depth)\n",
        "  model.fit(X_train, y_train)\n",
        "\n",
        "  train_scores.append(accuracy_score(y_train, model.predict(X_train)))\n",
        "  test_scores.append(accuracy_score(y_test, model.predict(X_test)))\n",
        "\n",
        "#Plot results\n",
        "plt.figure(figsize=(8,5))\n",
        "plt.plot(depths, train_scores, label='Train Accuracy', marker='o')\n",
        "plt.plot(depths, test_scores, label='Test Accuracy', marker='s')\n",
        "plt.xlabel(\"Tree Depth\")\n",
        "plt.ylabel(\"Accuracy\")\n",
        "plt.legend()\n",
        "plt.title(\"Overfitting and Underfitting\")\n",
        "plt.show()"
      ],
      "metadata": {
        "id": "GDpJ8a0eOpy5",
        "colab": {
          "base_uri": "https://localhost:8080/",
          "height": 496
        },
        "outputId": "bb708c9f-ca7e-499e-ecf4-6aab1758ac95"
      },
      "execution_count": null,
      "outputs": [
        {
          "output_type": "display_data",
          "data": {
            "text/plain": [
              "<Figure size 800x500 with 1 Axes>"
            ],
            "image/png": "[encoded data removed]"
          },
          "metadata": {}
        }
      ]
    },
    {
      "cell_type": "markdown",
      "source": [
        "**[ Answering the Analysis Questions as Comments: ]**"
      ],
      "metadata": {
        "id": "nyVSfBHNZ6in"
      }
    },
    {
      "cell_type": "code",
      "source": [
        "# Analysis:\n",
        "# What happens when depth is too small? A small tree depth leads to underfitting because it results in high bias and poor learning of complex patterns.\n",
        "# What happens when depth is too large? A large tree depth leads to overfitting because the model memorizes the training data and performs poorly on new data.\n",
        "# How can we determine the optimal depth? We can determine the optimal depth using cross-validation, where we test different depths and select the one with the best validation performance while avoiding overfitting."
      ],
      "metadata": {
        "id": "99NmL_gJYDGL"
      },
      "execution_count": null,
      "outputs": []
    },
    {
      "cell_type": "markdown",
      "source": [
        "# **Part 3: Bias-Variance Tradeoff**"
      ],
      "metadata": {
        "id": "8Vdl-qUoYIcj"
      }
    },
    {
      "cell_type": "markdown",
      "source": [
        "**Step 5: Compare a Simple and a Complex Model**"
      ],
      "metadata": {
        "id": "Rs5EmgCLYQBz"
      }
    },
    {
      "cell_type": "code",
      "source": [
        "from sklearn.linear_model import LogisticRegression\n",
        "from sklearn.ensemble import RandomForestClassifier\n",
        "\n",
        "# Train models\n",
        "log_model = LogisticRegression(max_iter=1000)\n",
        "rf_model = RandomForestClassifier(n_estimators=100)\n",
        "\n",
        "log_model.fit(X_train, y_train)\n",
        "rf_model.fit(X_train, y_train)\n",
        "\n",
        "# Get accuracies\n",
        "log_train_acc = accuracy_score(y_train, log_model.predict(X_train))\n",
        "log_test_acc = accuracy_score(y_test, log_model.predict(X_test))\n",
        "rf_train_acc = accuracy_score(y_train, rf_model.predict(X_train))\n",
        "rf_test_acc = accuracy_score(y_test, rf_model.predict(X_test))\n",
        "\n",
        "print(f\"Logistic Regression - Train: {log_train_acc:.3f}, Test: {log_test_acc:.3f}\")\n",
        "print(f\"Random Forest - Train: {rf_train_acc:.3f}, Test: {rf_test_acc:.3f}\")"
      ],
      "metadata": {
        "colab": {
          "base_uri": "https://localhost:8080/"
        },
        "id": "yRFb6zdYWeCI",
        "outputId": "58214cfe-143d-458d-8ab5-077057cc3e54"
      },
      "execution_count": null,
      "outputs": [
        {
          "output_type": "stream",
          "name": "stdout",
          "text": [
            "Logistic Regression - Train: 0.975, Test: 1.000\n",
            "Random Forest - Train: 1.000, Test: 1.000\n"
          ]
        }
      ]
    },
    {
      "cell_type": "markdown",
      "source": [
        "**[ Answering the Analysis Questions as Comments: ]**"
      ],
      "metadata": {
        "id": "cxoreWryZ-II"
      }
    },
    {
      "cell_type": "code",
      "source": [
        "# Analysis:\n",
        "# Which model has higher training accuracy? A deeper model has higher training accuracy since it can fit the training data, but this doesn't necessarily mean a better test performance.\n",
        "# Which model generalizes better to the test set? A moderate depth model, that's selected through cross-validation, will likely generalize better because the underfits are too shallow, and the overfits are too deep.\n",
        "# How does this relate to the bias-variance tradeoff? A small depth corresponds to underfitting (high bias), while a large depth corresponds to overfitting (high variance) because in  order to achieve the best test performance, the optimal depth balances bias and variance."
      ],
      "metadata": {
        "id": "yY9IhIdNYjmh"
      },
      "execution_count": null,
      "outputs": []
    }
  ]
}